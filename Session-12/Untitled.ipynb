{
 "cells": [
  {
   "cell_type": "code",
   "execution_count": 2,
   "metadata": {},
   "outputs": [],
   "source": [
    "import numpy as np\n",
    "import matplotlib.pyplot as plt\n",
    "from sklearn.datasets import make_regression"
   ]
  },
  {
   "cell_type": "code",
   "execution_count": 31,
   "metadata": {},
   "outputs": [],
   "source": [
    "class multivarTHETA:\n",
    "    \n",
    "    def __init__(self,lr = 0.1, iters = 10):\n",
    "        self.lr =lr\n",
    "        self.iters = iters\n",
    "        \n",
    "    def fit(self,X,y):\n",
    "        \n",
    "        X = np.hstack([np.ones([X.shape[0],1]),X])\n",
    "        self.theta_ = np.random.randn(X.shape[1],1)\n",
    "        errors = []\n",
    "        for i in range(self.iters):\n",
    "            errors.append(self.gradient_desc(X,y))\n",
    "            \n",
    "        return errors\n",
    "        \n",
    "        \n",
    "    def gradient_desc(self,X,y):\n",
    "        delta_theta,errors = self.gradient(X,y)\n",
    "        \n",
    "        self.theta_+=delta_theta\n",
    "        return errors\n",
    "    \n",
    "    def gradient(self,X,y):\n",
    "        yh = self.hypo(X)\n",
    "        ya = y.reshape(-1,1)\n",
    "        \n",
    "        mse = np.mean((yh-ya)**2)\n",
    "        dmsedt = np.dot(X.T,(yh-ya))/len(X)\n",
    "        \n",
    "        return -dmsedt*self.lr , mse\n",
    "    \n",
    "    def hypo(self,X):\n",
    "        return np.dot(X,self.theta_)\n",
    "    \n",
    "    def predict(self,X):\n",
    "        ones = np.ones([X.shape[0], 1])\n",
    "        X = np.hstack([ones, X])\n",
    "        return self.hypo(X).flatten()"
   ]
  },
  {
   "cell_type": "code",
   "execution_count": 32,
   "metadata": {},
   "outputs": [],
   "source": [
    "X,y = make_regression(n_samples=1000,n_features=1,bias=230,noise=30,random_state=100)"
   ]
  },
  {
   "cell_type": "code",
   "execution_count": 39,
   "metadata": {},
   "outputs": [],
   "source": [
    "model = multivarTHETA(lr=1,iters=10)\n",
    "errors = model.fit(X,y)"
   ]
  },
  {
   "cell_type": "code",
   "execution_count": 40,
   "metadata": {},
   "outputs": [
    {
     "data": {
      "text/plain": [
       "[<matplotlib.lines.Line2D at 0x1a1b20f090>]"
      ]
     },
     "execution_count": 40,
     "metadata": {},
     "output_type": "execute_result"
    },
    {
     "data": {
      "image/png": "[encoded data removed]",
      "text/plain": [
       "<Figure size 432x288 with 1 Axes>"
      ]
     },
     "metadata": {
      "needs_background": "light"
     },
     "output_type": "display_data"
    }
   ],
   "source": [
    "plt.plot(errors)"
   ]
  },
  {
   "cell_type": "code",
   "execution_count": null,
   "metadata": {},
   "outputs": [],
   "source": []
  },
  {
   "cell_type": "code",
   "execution_count": null,
   "metadata": {},
   "outputs": [],
   "source": []
  }
 ],
 "metadata": {
  "kernelspec": {
   "display_name": "Python 3",
   "language": "python",
   "name": "python3"
  },
  "language_info": {
   "codemirror_mode": {
    "name": "ipython",
    "version": 3
   },
   "file_extension": ".py",
   "mimetype": "text/x-python",
   "name": "python",
   "nbconvert_exporter": "python",
   "pygments_lexer": "ipython3",
   "version": "3.7.6"
  }
 },
 "nbformat": 4,
 "nbformat_minor": 4
}
