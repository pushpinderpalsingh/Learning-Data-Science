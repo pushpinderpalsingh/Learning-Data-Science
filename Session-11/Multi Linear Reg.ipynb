{
 "cells": [
  {
   "cell_type": "code",
   "execution_count": 2,
   "metadata": {},
   "outputs": [],
   "source": [
    " import numpy as np\n",
    "import matplotlib.pyplot as plt\n",
    "from sklearn.datasets import make_regression"
   ]
  },
  {
   "cell_type": "code",
   "execution_count": 147,
   "metadata": {},
   "outputs": [],
   "source": [
    "X,y = make_regression(n_features=1,bias=100,random_state=10,noise=20)\n",
    "X = (X-X.mean())/X.std()\n",
    "y = (y-y.mean())/y.std()"
   ]
  },
  {
   "cell_type": "code",
   "execution_count": 182,
   "metadata": {},
   "outputs": [],
   "source": [
    "class MultiLinear:\n",
    "    \n",
    "    def __init__(self,lr = 0.1,iters = 10):\n",
    "        self.lr = lr\n",
    "        self.iters = iters\n",
    "    \n",
    "    def fit(self,X,y):\n",
    "        self.coef_ = np.random.randn(X.shape[1],1)\n",
    "        self.bias_ = np.random.random()\n",
    "        errors = []\n",
    "        for i in range(self.iters):\n",
    "            errors.append(self.gradientdesc(X,y))\n",
    "        return errors\n",
    "        \n",
    "    def gradientdesc(self,X,y):\n",
    "        delta_coef_,delta_bias_,errors = self.gradient(X,y)\n",
    "        self.coef_ += delta_coef_\n",
    "        self.bias_ += delta_bias_\n",
    "        return errors\n",
    "        \n",
    "    def gradient(self,X,y):\n",
    "        yh = self.hypo(X)\n",
    "        ya = y.reshape(-1,1)\n",
    "        dmsedm = np.dot(X.T,(yh-ya))/len(X)\n",
    "        dmsedc = np.mean(2*(yh-ya))\n",
    "        mse = np.mean((yh-ya)**2)\n",
    "        return -dmsedm*self.lr,-dmsedc*self.lr,mse\n",
    "    \n",
    "    def hypo(self,X):\n",
    "        return np.dot(X,self.coef_) + self.bias_\n",
    "    \n",
    "    def predict(self,X):\n",
    "        return self.hypo(X).flatten()"
   ]
  },
  {
   "cell_type": "code",
   "execution_count": 246,
   "metadata": {},
   "outputs": [],
   "source": [
    "model = MultiLinear(lr=1.0,iters=50)"
   ]
  },
  {
   "cell_type": "code",
   "execution_count": 247,
   "metadata": {},
   "outputs": [],
   "source": [
    "errors = model.fit(X,y)"
   ]
  },
  {
   "cell_type": "code",
   "execution_count": 248,
   "metadata": {},
   "outputs": [],
   "source": [
    "yh = model.hypo(X)"
   ]
  },
  {
   "cell_type": "code",
   "execution_count": 249,
   "metadata": {},
   "outputs": [
    {
     "data": {
      "text/plain": [
       "[<matplotlib.lines.Line2D at 0x1a1d608e10>]"
      ]
     },
     "execution_count": 249,
     "metadata": {},
     "output_type": "execute_result"
    },
    {
     "data": {
      "image/png": "[encoded data removed]",
      "text/plain": [
       "<Figure size 432x288 with 1 Axes>"
      ]
     },
     "metadata": {
      "needs_background": "light"
     },
     "output_type": "display_data"
    }
   ],
   "source": [
    "plt.plot(errors)"
   ]
  },
  {
   "cell_type": "code",
   "execution_count": 250,
   "metadata": {},
   "outputs": [
    {
     "data": {
      "text/plain": [
       "array([[0.85284484]])"
      ]
     },
     "execution_count": 250,
     "metadata": {},
     "output_type": "execute_result"
    }
   ],
   "source": [
    "model.coef_"
   ]
  },
  {
   "cell_type": "code",
   "execution_count": 251,
   "metadata": {},
   "outputs": [
    {
     "data": {
      "text/plain": [
       "array([-0.54866821, -0.79732699,  1.9924908 ,  0.24895165,  0.02216331,\n",
       "        0.70867222,  1.6280599 , -0.01307694,  1.44920672,  0.29973402])"
      ]
     },
     "execution_count": 251,
     "metadata": {},
     "output_type": "execute_result"
    }
   ],
   "source": [
    "model.predict(X[:10])"
   ]
  },
  {
   "cell_type": "code",
   "execution_count": 252,
   "metadata": {},
   "outputs": [
    {
     "data": {
      "text/plain": [
       "array([-0.66596729, -1.17971138,  2.34493403, -0.46180997, -0.68900776,\n",
       "        0.75349402,  2.17684541, -0.69979045,  0.31009828,  0.69243057])"
      ]
     },
     "execution_count": 252,
     "metadata": {},
     "output_type": "execute_result"
    }
   ],
   "source": [
    "y[:10]"
   ]
  },
  {
   "cell_type": "code",
   "execution_count": 253,
   "metadata": {},
   "outputs": [
    {
     "data": {
      "text/plain": [
       "<matplotlib.collections.PathCollection at 0x1a1d75bbd0>"
      ]
     },
     "execution_count": 253,
     "metadata": {},
     "output_type": "execute_result"
    },
    {
     "data": {
      "image/png": "[encoded data removed]",
      "text/plain": [
       "<Figure size 432x288 with 1 Axes>"
      ]
     },
     "metadata": {
      "needs_background": "light"
     },
     "output_type": "display_data"
    }
   ],
   "source": [
    "plt.scatter(X,y)\n",
    "plt.scatter(X,model.predict(X))"
   ]
  },
  {
   "cell_type": "code",
   "execution_count": null,
   "metadata": {},
   "outputs": [],
   "source": []
  }
 ],
 "metadata": {
  "kernelspec": {
   "display_name": "Python 3",
   "language": "python",
   "name": "python3"
  },
  "language_info": {
   "codemirror_mode": {
    "name": "ipython",
    "version": 3
   },
   "file_extension": ".py",
   "mimetype": "text/x-python",
   "name": "python",
   "nbconvert_exporter": "python",
   "pygments_lexer": "ipython3",
   "version": "3.7.6"
  }
 },
 "nbformat": 4,
 "nbformat_minor": 4
}
