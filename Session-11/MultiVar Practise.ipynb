{
 "cells": [
  {
   "cell_type": "code",
   "execution_count": 1,
   "metadata": {},
   "outputs": [],
   "source": [
    "import numpy as np \n",
    "import matplotlib.pyplot as plt\n",
    "from sklearn.datasets import make_regression"
   ]
  },
  {
   "cell_type": "code",
   "execution_count": 6,
   "metadata": {},
   "outputs": [],
   "source": [
    "X,y = make_regression(n_features=1,bias=100,noise=20,random_state=10,n_samples=100000000)"
   ]
  },
  {
   "cell_type": "code",
   "execution_count": 7,
   "metadata": {},
   "outputs": [],
   "source": [
    "class multi:\n",
    "    def __init__(self, lr =0.1 , iters = 10):\n",
    "        self.lr = lr\n",
    "        self.iters = iters\n",
    "    \n",
    "    def fit(self,X,y):\n",
    "        self.coef_ = np.random.randn(X.shape[1],1)\n",
    "        self.bias_ = np.random.random()\n",
    "        errors = []\n",
    "        for i in range(self.iters):\n",
    "            errors.append(self.gradient_descent(X,y))\n",
    "        return errors\n",
    "    \n",
    "    def gradient_descent(self,X,y):\n",
    "        delta_bias,delta_coef_,errors = self.gradient(X,y)\n",
    "        self.coef_+=delta_coef_\n",
    "        self.bias_+=delta_bias\n",
    "        return errors\n",
    "    \n",
    "    def gradient(self,X,y):\n",
    "        yh = self.hypo(X)\n",
    "        y = y.reshape(-1,1)\n",
    "        mse = np.mean((yh-y)**2)\n",
    "        dmsedm = np.dot(X.T,(yh-y))/len(X)\n",
    "        dmsedc = np.mean(2*(yh-y))\n",
    "        return -dmsedc*self.lr,-dmsedm*self.lr,mse\n",
    "    \n",
    "    def hypo(self,X):\n",
    "        return np.dot(X,self.coef_) + self.bias_\n",
    "    \n",
    "    def predict(self,X):\n",
    "        return self.hypo(X).flatten()"
   ]
  },
  {
   "cell_type": "code",
   "execution_count": 8,
   "metadata": {},
   "outputs": [],
   "source": [
    "model = multi(lr=0.5,iters=10)\n",
    "error = model.fit(X,y)"
   ]
  },
  {
   "cell_type": "code",
   "execution_count": 9,
   "metadata": {},
   "outputs": [
    {
     "data": {
      "text/plain": [
       "[<matplotlib.lines.Line2D at 0x1a1eb7c950>]"
      ]
     },
     "execution_count": 9,
     "metadata": {},
     "output_type": "execute_result"
    },
    {
     "data": {
      "image/png": "[encoded data removed]",
      "text/plain": [
       "<Figure size 432x288 with 1 Axes>"
      ]
     },
     "metadata": {
      "needs_background": "light"
     },
     "output_type": "display_data"
    }
   ],
   "source": [
    "plt.plot(error)"
   ]
  },
  {
   "cell_type": "code",
   "execution_count": null,
   "metadata": {},
   "outputs": [],
   "source": [
    "(model.hypo(X)).shape"
   ]
  },
  {
   "cell_type": "code",
   "execution_count": null,
   "metadata": {},
   "outputs": [],
   "source": [
    "(model.predict(X)).shape"
   ]
  },
  {
   "cell_type": "code",
   "execution_count": null,
   "metadata": {},
   "outputs": [],
   "source": [
    "X.shape"
   ]
  },
  {
   "cell_type": "code",
   "execution_count": null,
   "metadata": {},
   "outputs": [],
   "source": [
    "(model.coef_).shape"
   ]
  },
  {
   "cell_type": "code",
   "execution_count": null,
   "metadata": {},
   "outputs": [],
   "source": [
    "plt.scatter(X,y)\n",
    "plt.scatter(X,model.predict(X))"
   ]
  },
  {
   "cell_type": "code",
   "execution_count": null,
   "metadata": {},
   "outputs": [],
   "source": []
  }
 ],
 "metadata": {
  "kernelspec": {
   "display_name": "Python 3",
   "language": "python",
   "name": "python3"
  },
  "language_info": {
   "codemirror_mode": {
    "name": "ipython",
    "version": 3
   },
   "file_extension": ".py",
   "mimetype": "text/x-python",
   "name": "python",
   "nbconvert_exporter": "python",
   "pygments_lexer": "ipython3",
   "version": "3.7.6"
  }
 },
 "nbformat": 4,
 "nbformat_minor": 4
}
