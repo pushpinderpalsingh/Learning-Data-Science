{
 "cells": [
  {
   "cell_type": "code",
   "execution_count": 38,
   "metadata": {
    "collapsed": true
   },
   "outputs": [],
   "source": [
    "import numpy as np\n",
    "import pandas as pd\n",
    "from sklearn.model_selection import train_test_split"
   ]
  },
  {
   "cell_type": "code",
   "execution_count": 15,
   "outputs": [],
   "source": [
    "def entropy(sequence):\n",
    "    value, count = np.unique(sequence,return_counts=True)\n",
    "    prob = count/np.sum(count)\n",
    "    return -np.sum(prob*np.log2(prob))"
   ],
   "metadata": {
    "collapsed": false,
    "pycharm": {
     "name": "#%%\n"
    }
   }
  },
  {
   "cell_type": "code",
   "execution_count": 16,
   "outputs": [],
   "source": [
    "def infogain(X,y,label):\n",
    "    pivot = X[label].mean()\n",
    "    left,right = y.loc[X[label]<pivot],y.loc[X[label]>=pivot]\n",
    "    pl,pr = len(left)/len(X),len(right)/len(X)\n",
    "\n",
    "    return entropy(y) - pl * entropy(left) - pr * entropy(right)\n",
    "\n"
   ],
   "metadata": {
    "collapsed": false,
    "pycharm": {
     "name": "#%%\n"
    }
   }
  },
  {
   "cell_type": "code",
   "execution_count": 51,
   "outputs": [],
   "source": [
    "class Node:\n",
    "    def __init__(self,label = None,pivot = None,result = None):\n",
    "        self.label = label\n",
    "        self.pivot = pivot\n",
    "        self.result = result\n",
    "\n",
    "        self.left  = None\n",
    "        self.right = None\n",
    "    def __repr__(self):\n",
    "        if self.label:\n",
    "            return \"{}:{}\".format(self.label,self.pivot)\n",
    "        else:\n",
    "            return [\"Dead\",\"Alive\"][int(self.result > 0.5)]"
   ],
   "metadata": {
    "collapsed": false,
    "pycharm": {
     "name": "#%%\n"
    }
   }
  },
  {
   "cell_type": "code",
   "execution_count": 84,
   "outputs": [],
   "source": [
    "class CustomDT:\n",
    "    def __init__(self,max_depth = 5):\n",
    "        self.max_depth = max_depth\n",
    "\n",
    "    def fit(self,X,y):\n",
    "        self.root = self.fit_rec(X,y,0)\n",
    "\n",
    "    def fit_rec(self,X,y,depth):\n",
    "        if self.max_depth == depth:\n",
    "            node = Node(result=y.mean())\n",
    "            return node\n",
    "\n",
    "        gains = []\n",
    "\n",
    "        for col in X.columns:\n",
    "            gains.append([infogain(X,y,col),col])\n",
    "\n",
    "        maxgain,col = sorted(gains)[-1]\n",
    "\n",
    "        if maxgain <=0:\n",
    "            node = Node(result=y.mean())\n",
    "            return node\n",
    "\n",
    "        pivot = X[col].mean()\n",
    "        left,right = X[col]<pivot,X[col]>=pivot\n",
    "\n",
    "        X_left,X_right = X.loc[left],X.loc[right]\n",
    "        y_left,y_right = y.loc[left],y.loc[right]\n",
    "\n",
    "        node = Node(label=col,pivot=pivot)\n",
    "        node.left = self.fit_rec(X_left,y_left,depth+1)\n",
    "        node.right = self.fit_rec(X_right,y_right,depth+1)\n",
    "        return  node\n",
    "\n",
    "    def display(self,node,indent):\n",
    "        if node == None:\n",
    "            return\n",
    "\n",
    "        print(indent,node)\n",
    "\n",
    "        self.display(node.left,indent + \"\\t\")\n",
    "        self.display(node.right,indent+\"\\t\")\n",
    "\n",
    "    def predict_point(self,node,row):\n",
    "        if node.result != None:\n",
    "            return node.result\n",
    "        if row[node.label] < node.pivot:\n",
    "            return self.predict_point(node.left,row)\n",
    "        else:\n",
    "            return self.predict_point(node.right,row)"
   ],
   "metadata": {
    "collapsed": false,
    "pycharm": {
     "name": "#%%\n"
    }
   }
  },
  {
   "cell_type": "code",
   "execution_count": 85,
   "outputs": [],
   "source": [
    "model = CustomDT(max_depth=5)"
   ],
   "metadata": {
    "collapsed": false,
    "pycharm": {
     "name": "#%%\n"
    }
   }
  },
  {
   "cell_type": "code",
   "execution_count": 86,
   "outputs": [],
   "source": [
    "df = pd.read_csv(\"processed.csv\")\n",
    "\n",
    "X, y = df.drop([\"Survived\"], axis=1), df.Survived"
   ],
   "metadata": {
    "collapsed": false,
    "pycharm": {
     "name": "#%%\n"
    }
   }
  },
  {
   "cell_type": "code",
   "execution_count": 87,
   "outputs": [],
   "source": [
    "model.fit(X,y)"
   ],
   "metadata": {
    "collapsed": false,
    "pycharm": {
     "name": "#%%\n"
    }
   }
  },
  {
   "cell_type": "code",
   "execution_count": 88,
   "outputs": [
    {
     "name": "stdout",
     "output_type": "stream",
     "text": [
      " Sex:0.6475869809203143\n",
      "\t Pclass:2.159235668789809\n",
      "\t\t Pclass:1.4470588235294117\n",
      "\t\t\t Parch:0.4574468085106383\n",
      "\t\t\t\t Age:36.11737804878049\n",
      "\t\t\t\t\t Alive\n",
      "\t\t\t\t\t Alive\n",
      "\t\t\t\t Parch:1.4333333333333333\n",
      "\t\t\t\t\t Alive\n",
      "\t\t\t\t\t Alive\n",
      "\t\t\t Parch:0.6052631578947368\n",
      "\t\t\t\t Age:31.88137254901961\n",
      "\t\t\t\t\t Alive\n",
      "\t\t\t\t\t Alive\n",
      "\t\t\t\t Age:24.096774193548388\n",
      "\t\t\t\t\t Alive\n",
      "\t\t\t\t\t Alive\n",
      "\t\t Age:21.573984526112184\n",
      "\t\t\t Parch:0.5789473684210527\n",
      "\t\t\t\t Age:18.04436396559529\n",
      "\t\t\t\t\t Alive\n",
      "\t\t\t\t\t Alive\n",
      "\t\t\t\t SibSp:1.896551724137931\n",
      "\t\t\t\t\t Alive\n",
      "\t\t\t\t\t Dead\n",
      "\t\t\t SibSp:0.8382352941176471\n",
      "\t\t\t\t Age:28.701136363636362\n",
      "\t\t\t\t\t Dead\n",
      "\t\t\t\t\t Dead\n",
      "\t\t\t\t Age:31.22727272727273\n",
      "\t\t\t\t\t Dead\n",
      "\t\t\t\t\t Dead\n",
      "\t Pclass:2.389948006932409\n",
      "\t\t Pclass:1.4695652173913043\n",
      "\t\t\t Age:41.507962913195385\n",
      "\t\t\t\t Age:29.735000000000003\n",
      "\t\t\t\t\t Alive\n",
      "\t\t\t\t\t Alive\n",
      "\t\t\t\t SibSp:0.2878787878787879\n",
      "\t\t\t\t\t Dead\n",
      "\t\t\t\t\t Dead\n",
      "\t\t\t Parch:0.2222222222222222\n",
      "\t\t\t\t SibSp:0.2247191011235955\n",
      "\t\t\t\t\t Dead\n",
      "\t\t\t\t\t Dead\n",
      "\t\t\t\t Age:18.57\n",
      "\t\t\t\t\t Alive\n",
      "\t\t\t\t\t Dead\n",
      "\t\t Age:26.581072278914565\n",
      "\t\t\t Parch:0.33557046979865773\n",
      "\t\t\t\t Age:21.286897997205397\n",
      "\t\t\t\t\t Dead\n",
      "\t\t\t\t\t Dead\n",
      "\t\t\t\t SibSp:2.5277777777777777\n",
      "\t\t\t\t\t Alive\n",
      "\t\t\t\t\t Dead\n",
      "\t\t\t SibSp:0.3181818181818182\n",
      "\t\t\t\t Age:32.992087518921146\n",
      "\t\t\t\t\t Dead\n",
      "\t\t\t\t\t Dead\n",
      "\t\t\t\t Dead\n"
     ]
    }
   ],
   "source": [
    "model.display(model.root,\"\")"
   ],
   "metadata": {
    "collapsed": false,
    "pycharm": {
     "name": "#%%\n"
    }
   }
  },
  {
   "cell_type": "code",
   "execution_count": 95,
   "outputs": [
    {
     "data": {
      "text/plain": "0.6923076923076923"
     },
     "execution_count": 95,
     "metadata": {},
     "output_type": "execute_result"
    }
   ],
   "source": [
    "model.predict_point(model.root,X.iloc[10])"
   ],
   "metadata": {
    "collapsed": false,
    "pycharm": {
     "name": "#%%\n"
    }
   }
  },
  {
   "cell_type": "code",
   "execution_count": 97,
   "outputs": [
    {
     "data": {
      "text/plain": "1.0"
     },
     "execution_count": 97,
     "metadata": {},
     "output_type": "execute_result"
    }
   ],
   "source": [
    "\n",
    "y.iloc[10]"
   ],
   "metadata": {
    "collapsed": false,
    "pycharm": {
     "name": "#%%\n"
    }
   }
  },
  {
   "cell_type": "code",
   "execution_count": null,
   "outputs": [],
   "source": [
    "\n"
   ],
   "metadata": {
    "collapsed": false,
    "pycharm": {
     "name": "#%%\n"
    }
   }
  }
 ],
 "metadata": {
  "kernelspec": {
   "display_name": "Python 3",
   "language": "python",
   "name": "python3"
  },
  "language_info": {
   "codemirror_mode": {
    "name": "ipython",
    "version": 2
   },
   "file_extension": ".py",
   "mimetype": "text/x-python",
   "name": "python",
   "nbconvert_exporter": "python",
   "pygments_lexer": "ipython2",
   "version": "2.7.6"
  }
 },
 "nbformat": 4,
 "nbformat_minor": 0
}