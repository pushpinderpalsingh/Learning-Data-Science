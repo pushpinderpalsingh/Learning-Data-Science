{
 "cells": [
  {
   "cell_type": "code",
   "execution_count": 113,
   "metadata": {
    "collapsed": true
   },
   "outputs": [],
   "source": [
    "import numpy as np\n",
    "import pandas as pd\n",
    "from sklearn.model_selection import train_test_split\n",
    "import pydotplus\n",
    "from sklearn.externals.six import StringIO\n",
    "from IPython.display import Image\n",
    "from sklearn.tree import export_graphviz\n",
    "from sklearn.tree import DecisionTreeClassifier"
   ]
  },
  {
   "cell_type": "code",
   "execution_count": 114,
   "outputs": [],
   "source": [
    "def entropy(sequence):\n",
    "    value, count = np.unique(sequence,return_counts=True)\n",
    "    prob = count/np.sum(count)\n",
    "    return -np.sum(prob*np.log2(prob))"
   ],
   "metadata": {
    "collapsed": false,
    "pycharm": {
     "name": "#%%\n"
    }
   }
  },
  {
   "cell_type": "code",
   "execution_count": 115,
   "outputs": [],
   "source": [
    "def infogain(X,y,label):\n",
    "    pivot = X[label].mean()\n",
    "    left,right = y.loc[X[label]<pivot],y.loc[X[label]>=pivot]\n",
    "    pl,pr = len(left)/len(X),len(right)/len(X)\n",
    "\n",
    "    return entropy(y) - pl * entropy(left) - pr * entropy(right)\n",
    "\n"
   ],
   "metadata": {
    "collapsed": false,
    "pycharm": {
     "name": "#%%\n"
    }
   }
  },
  {
   "cell_type": "code",
   "execution_count": 116,
   "outputs": [],
   "source": [
    "class Node:\n",
    "    def __init__(self,label = None,pivot = None,result = None):\n",
    "        self.label = label\n",
    "        self.pivot = pivot\n",
    "        self.result = result\n",
    "\n",
    "        self.left  = None\n",
    "        self.right = None\n",
    "    def __repr__(self):\n",
    "        if self.label:\n",
    "            return \"{}:{}\".format(self.label,self.pivot)\n",
    "        else:\n",
    "            return [\"Dead\",\"Alive\"][int(self.result > 0.5)]"
   ],
   "metadata": {
    "collapsed": false,
    "pycharm": {
     "name": "#%%\n"
    }
   }
  },
  {
   "cell_type": "code",
   "execution_count": 117,
   "outputs": [],
   "source": [
    "class CustomDT:\n",
    "    def __init__(self,max_depth = 5):\n",
    "        self.max_depth = max_depth\n",
    "\n",
    "    def fit(self,X,y):\n",
    "        self.root = self.fit_rec(X,y,0)\n",
    "\n",
    "    def fit_rec(self,X,y,depth):\n",
    "        if self.max_depth == depth:\n",
    "            node = Node(result=y.mean())\n",
    "            return node\n",
    "\n",
    "        gains = []\n",
    "\n",
    "        for col in X.columns:\n",
    "            gains.append([infogain(X,y,col),col])\n",
    "\n",
    "        maxgain,col = sorted(gains)[-1]\n",
    "\n",
    "        if maxgain <=0:\n",
    "            node = Node(result=y.mean())\n",
    "            return node\n",
    "\n",
    "        pivot = X[col].mean()\n",
    "        left,right = X[col]<pivot,X[col]>=pivot\n",
    "\n",
    "        X_left,X_right = X.loc[left],X.loc[right]\n",
    "        y_left,y_right = y.loc[left],y.loc[right]\n",
    "\n",
    "        node = Node(label=col,pivot=pivot)\n",
    "        node.left = self.fit_rec(X_left,y_left,depth+1)\n",
    "        node.right = self.fit_rec(X_right,y_right,depth+1)\n",
    "        return  node\n",
    "\n",
    "    def display(self,node,indent):\n",
    "        if node == None:\n",
    "            return\n",
    "\n",
    "        print(indent,node)\n",
    "\n",
    "        self.display(node.left,indent + \"\\t\")\n",
    "        self.display(node.right,indent+\"\\t\")\n",
    "\n",
    "    def predict_point(self,node,row):\n",
    "        if node.result != None:\n",
    "            return node.result\n",
    "        if row[node.label] < node.pivot:\n",
    "            return self.predict_point(node.left,row)\n",
    "        else:\n",
    "            return self.predict_point(node.right,row)"
   ],
   "metadata": {
    "collapsed": false,
    "pycharm": {
     "name": "#%%\n"
    }
   }
  },
  {
   "cell_type": "code",
   "execution_count": 118,
   "outputs": [],
   "source": [
    "model = CustomDT(max_depth=5)"
   ],
   "metadata": {
    "collapsed": false,
    "pycharm": {
     "name": "#%%\n"
    }
   }
  },
  {
   "cell_type": "code",
   "execution_count": 119,
   "outputs": [],
   "source": [
    "df = pd.read_csv(\"processed.csv\")\n",
    "\n",
    "X, y = df.drop([\"Survived\"], axis=1), df.Survived"
   ],
   "metadata": {
    "collapsed": false,
    "pycharm": {
     "name": "#%%\n"
    }
   }
  },
  {
   "cell_type": "code",
   "execution_count": 120,
   "outputs": [],
   "source": [
    "model.fit(X,y)"
   ],
   "metadata": {
    "collapsed": false,
    "pycharm": {
     "name": "#%%\n"
    }
   }
  },
  {
   "cell_type": "code",
   "execution_count": 121,
   "outputs": [
    {
     "name": "stdout",
     "output_type": "stream",
     "text": [
      " Sex:0.6475869809203143\n",
      "\t Pclass:2.159235668789809\n",
      "\t\t Pclass:1.4470588235294117\n",
      "\t\t\t Parch:0.4574468085106383\n",
      "\t\t\t\t Age:36.11737804878049\n",
      "\t\t\t\t\t Alive\n",
      "\t\t\t\t\t Alive\n",
      "\t\t\t\t Parch:1.4333333333333333\n",
      "\t\t\t\t\t Alive\n",
      "\t\t\t\t\t Alive\n",
      "\t\t\t Parch:0.6052631578947368\n",
      "\t\t\t\t Age:31.88137254901961\n",
      "\t\t\t\t\t Alive\n",
      "\t\t\t\t\t Alive\n",
      "\t\t\t\t Age:24.096774193548388\n",
      "\t\t\t\t\t Alive\n",
      "\t\t\t\t\t Alive\n",
      "\t\t Age:21.573984526112184\n",
      "\t\t\t Parch:0.5789473684210527\n",
      "\t\t\t\t Age:18.04436396559529\n",
      "\t\t\t\t\t Alive\n",
      "\t\t\t\t\t Alive\n",
      "\t\t\t\t SibSp:1.896551724137931\n",
      "\t\t\t\t\t Alive\n",
      "\t\t\t\t\t Dead\n",
      "\t\t\t SibSp:0.8382352941176471\n",
      "\t\t\t\t Age:28.701136363636362\n",
      "\t\t\t\t\t Dead\n",
      "\t\t\t\t\t Dead\n",
      "\t\t\t\t Age:31.22727272727273\n",
      "\t\t\t\t\t Dead\n",
      "\t\t\t\t\t Dead\n",
      "\t Pclass:2.389948006932409\n",
      "\t\t Pclass:1.4695652173913043\n",
      "\t\t\t Age:41.507962913195385\n",
      "\t\t\t\t Age:29.735000000000003\n",
      "\t\t\t\t\t Alive\n",
      "\t\t\t\t\t Alive\n",
      "\t\t\t\t SibSp:0.2878787878787879\n",
      "\t\t\t\t\t Dead\n",
      "\t\t\t\t\t Dead\n",
      "\t\t\t Parch:0.2222222222222222\n",
      "\t\t\t\t SibSp:0.2247191011235955\n",
      "\t\t\t\t\t Dead\n",
      "\t\t\t\t\t Dead\n",
      "\t\t\t\t Age:18.57\n",
      "\t\t\t\t\t Alive\n",
      "\t\t\t\t\t Dead\n",
      "\t\t Age:26.581072278914565\n",
      "\t\t\t Parch:0.33557046979865773\n",
      "\t\t\t\t Age:21.286897997205397\n",
      "\t\t\t\t\t Dead\n",
      "\t\t\t\t\t Dead\n",
      "\t\t\t\t SibSp:2.5277777777777777\n",
      "\t\t\t\t\t Alive\n",
      "\t\t\t\t\t Dead\n",
      "\t\t\t SibSp:0.3181818181818182\n",
      "\t\t\t\t Age:32.992087518921146\n",
      "\t\t\t\t\t Dead\n",
      "\t\t\t\t\t Dead\n",
      "\t\t\t\t Dead\n"
     ]
    }
   ],
   "source": [
    "model.display(model.root,\"\")"
   ],
   "metadata": {
    "collapsed": false,
    "pycharm": {
     "name": "#%%\n"
    }
   }
  },
  {
   "cell_type": "code",
   "execution_count": 122,
   "outputs": [
    {
     "data": {
      "text/plain": "0.6923076923076923"
     },
     "execution_count": 122,
     "metadata": {},
     "output_type": "execute_result"
    }
   ],
   "source": [
    "model.predict_point(model.root,X.iloc[10])"
   ],
   "metadata": {
    "collapsed": false,
    "pycharm": {
     "name": "#%%\n"
    }
   }
  },
  {
   "cell_type": "code",
   "execution_count": 123,
   "outputs": [
    {
     "data": {
      "text/plain": "1.0"
     },
     "execution_count": 123,
     "metadata": {},
     "output_type": "execute_result"
    }
   ],
   "source": [
    "\n",
    "y.iloc[10]"
   ],
   "metadata": {
    "collapsed": false,
    "pycharm": {
     "name": "#%%\n"
    }
   }
  },
  {
   "cell_type": "code",
   "execution_count": 124,
   "outputs": [],
   "source": [
    "model = DecisionTreeClassifier()\n"
   ],
   "metadata": {
    "collapsed": false,
    "pycharm": {
     "name": "#%%\n"
    }
   }
  },
  {
   "cell_type": "code",
   "execution_count": 125,
   "outputs": [
    {
     "data": {
      "text/plain": "DecisionTreeClassifier(ccp_alpha=0.0, class_weight=None, criterion='gini',\n                       max_depth=None, max_features=None, max_leaf_nodes=None,\n                       min_impurity_decrease=0.0, min_impurity_split=None,\n                       min_samples_leaf=1, min_samples_split=2,\n                       min_weight_fraction_leaf=0.0, presort='deprecated',\n                       random_state=None, splitter='best')"
     },
     "execution_count": 125,
     "metadata": {},
     "output_type": "execute_result"
    }
   ],
   "source": [
    "model.fit(X,y)"
   ],
   "metadata": {
    "collapsed": false,
    "pycharm": {
     "name": "#%%\n"
    }
   }
  },
  {
   "cell_type": "code",
   "execution_count": 126,
   "outputs": [
    {
     "data": {
      "text/plain": "0.9461279461279462"
     },
     "execution_count": 126,
     "metadata": {},
     "output_type": "execute_result"
    }
   ],
   "source": [
    "model.score(X,y)"
   ],
   "metadata": {
    "collapsed": false,
    "pycharm": {
     "name": "#%%\n"
    }
   }
  },
  {
   "cell_type": "code",
   "execution_count": 127,
   "outputs": [],
   "source": [
    "dot_data = StringIO()\n",
    "export_graphviz(model,out_file=dot_data,filled=True,rounded=True)\n"
   ],
   "metadata": {
    "collapsed": false,
    "pycharm": {
     "name": "#%%\n"
    }
   }
  },
  {
   "cell_type": "code",
   "execution_count": 129,
   "outputs": [
    {
     "ename": "InvocationException",
     "evalue": "GraphViz's executables not found",
     "output_type": "error",
     "traceback": [
      "\u001B[0;31m---------------------------------------------------------------------------\u001B[0m",
      "\u001B[0;31mInvocationException\u001B[0m                       Traceback (most recent call last)",
      "\u001B[0;32m<ipython-input-129-ecf447840940>\u001B[0m in \u001B[0;36m<module>\u001B[0;34m\u001B[0m\n\u001B[1;32m      1\u001B[0m \u001B[0mgraph\u001B[0m \u001B[0;34m=\u001B[0m \u001B[0mpydotplus\u001B[0m\u001B[0;34m.\u001B[0m\u001B[0mgraph_from_dot_data\u001B[0m\u001B[0;34m(\u001B[0m\u001B[0mdot_data\u001B[0m\u001B[0;34m.\u001B[0m\u001B[0mgetvalue\u001B[0m\u001B[0;34m(\u001B[0m\u001B[0;34m)\u001B[0m\u001B[0;34m)\u001B[0m\u001B[0;34m\u001B[0m\u001B[0;34m\u001B[0m\u001B[0m\n\u001B[0;32m----> 2\u001B[0;31m \u001B[0mImage\u001B[0m\u001B[0;34m(\u001B[0m\u001B[0mgraph\u001B[0m\u001B[0;34m.\u001B[0m\u001B[0mcreate_png\u001B[0m\u001B[0;34m(\u001B[0m\u001B[0;34m)\u001B[0m\u001B[0;34m)\u001B[0m\u001B[0;34m\u001B[0m\u001B[0;34m\u001B[0m\u001B[0m\n\u001B[0m\u001B[1;32m      3\u001B[0m \u001B[0;34m\u001B[0m\u001B[0m\n",
      "\u001B[0;32m~/Library/Python/3.7/lib/python/site-packages/pydotplus/graphviz.py\u001B[0m in \u001B[0;36m<lambda>\u001B[0;34m(f, prog)\u001B[0m\n\u001B[1;32m   1795\u001B[0m             self.__setattr__(\n\u001B[1;32m   1796\u001B[0m                 \u001B[0;34m'create_'\u001B[0m \u001B[0;34m+\u001B[0m \u001B[0mfrmt\u001B[0m\u001B[0;34m,\u001B[0m\u001B[0;34m\u001B[0m\u001B[0;34m\u001B[0m\u001B[0m\n\u001B[0;32m-> 1797\u001B[0;31m                 \u001B[0;32mlambda\u001B[0m \u001B[0mf\u001B[0m\u001B[0;34m=\u001B[0m\u001B[0mfrmt\u001B[0m\u001B[0;34m,\u001B[0m \u001B[0mprog\u001B[0m\u001B[0;34m=\u001B[0m\u001B[0mself\u001B[0m\u001B[0;34m.\u001B[0m\u001B[0mprog\u001B[0m\u001B[0;34m:\u001B[0m \u001B[0mself\u001B[0m\u001B[0;34m.\u001B[0m\u001B[0mcreate\u001B[0m\u001B[0;34m(\u001B[0m\u001B[0mformat\u001B[0m\u001B[0;34m=\u001B[0m\u001B[0mf\u001B[0m\u001B[0;34m,\u001B[0m \u001B[0mprog\u001B[0m\u001B[0;34m=\u001B[0m\u001B[0mprog\u001B[0m\u001B[0;34m)\u001B[0m\u001B[0;34m\u001B[0m\u001B[0;34m\u001B[0m\u001B[0m\n\u001B[0m\u001B[1;32m   1798\u001B[0m             )\n\u001B[1;32m   1799\u001B[0m             \u001B[0mf\u001B[0m \u001B[0;34m=\u001B[0m \u001B[0mself\u001B[0m\u001B[0;34m.\u001B[0m\u001B[0m__dict__\u001B[0m\u001B[0;34m[\u001B[0m\u001B[0;34m'create_'\u001B[0m \u001B[0;34m+\u001B[0m \u001B[0mfrmt\u001B[0m\u001B[0;34m]\u001B[0m\u001B[0;34m\u001B[0m\u001B[0;34m\u001B[0m\u001B[0m\n",
      "\u001B[0;32m~/Library/Python/3.7/lib/python/site-packages/pydotplus/graphviz.py\u001B[0m in \u001B[0;36mcreate\u001B[0;34m(self, prog, format)\u001B[0m\n\u001B[1;32m   1958\u001B[0m             \u001B[0;32mif\u001B[0m \u001B[0mself\u001B[0m\u001B[0;34m.\u001B[0m\u001B[0mprogs\u001B[0m \u001B[0;32mis\u001B[0m \u001B[0;32mNone\u001B[0m\u001B[0;34m:\u001B[0m\u001B[0;34m\u001B[0m\u001B[0;34m\u001B[0m\u001B[0m\n\u001B[1;32m   1959\u001B[0m                 raise InvocationException(\n\u001B[0;32m-> 1960\u001B[0;31m                     'GraphViz\\'s executables not found')\n\u001B[0m\u001B[1;32m   1961\u001B[0m \u001B[0;34m\u001B[0m\u001B[0m\n\u001B[1;32m   1962\u001B[0m         \u001B[0;32mif\u001B[0m \u001B[0mprog\u001B[0m \u001B[0;32mnot\u001B[0m \u001B[0;32min\u001B[0m \u001B[0mself\u001B[0m\u001B[0;34m.\u001B[0m\u001B[0mprogs\u001B[0m\u001B[0;34m:\u001B[0m\u001B[0;34m\u001B[0m\u001B[0;34m\u001B[0m\u001B[0m\n",
      "\u001B[0;31mInvocationException\u001B[0m: GraphViz's executables not found"
     ]
    }
   ],
   "source": [
    "graph = pydotplus.graph_from_dot_data(dot_data.getvalue())\n",
    "Image(graph.create_png())"
   ],
   "metadata": {
    "collapsed": false,
    "pycharm": {
     "name": "#%%\n"
    }
   }
  },
  {
   "cell_type": "code",
   "execution_count": null,
   "outputs": [],
   "source": [],
   "metadata": {
    "collapsed": false,
    "pycharm": {
     "name": "#%%\n"
    }
   }
  },
  {
   "cell_type": "code",
   "execution_count": null,
   "outputs": [],
   "source": [
    "\n"
   ],
   "metadata": {
    "collapsed": false,
    "pycharm": {
     "name": "#%%\n"
    }
   }
  }
 ],
 "metadata": {
  "kernelspec": {
   "display_name": "Python 3",
   "language": "python",
   "name": "python3"
  },
  "language_info": {
   "codemirror_mode": {
    "name": "ipython",
    "version": 2
   },
   "file_extension": ".py",
   "mimetype": "text/x-python",
   "name": "python",
   "nbconvert_exporter": "python",
   "pygments_lexer": "ipython2",
   "version": "2.7.6"
  }
 },
 "nbformat": 4,
 "nbformat_minor": 0
}