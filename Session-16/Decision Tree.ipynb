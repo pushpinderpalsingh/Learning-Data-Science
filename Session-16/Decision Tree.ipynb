{
 "cells": [
  {
   "cell_type": "code",
   "execution_count": 1,
   "metadata": {
    "collapsed": true
   },
   "outputs": [],
   "source": [
    "import numpy as np\n",
    "import matplotlib.pyplot as plt\n",
    "import pandas as pd\n",
    "from sklearn.model_selection import train_test_split"
   ]
  },
  {
   "cell_type": "code",
   "execution_count": 2,
   "outputs": [],
   "source": [
    "entropies = []\n",
    "for red in range(10):\n",
    "    blue = 9 - red\n",
    "    balls = [\"blue\"] * blue + [\"red\"]*red\n",
    "    items,count = np.unique(balls,return_counts=True)\n",
    "    prob = count/np.sum(count)\n",
    "    entropy = -np.sum(prob*np.log(prob))\n",
    "    entropies.append(entropy)"
   ],
   "metadata": {
    "collapsed": false,
    "pycharm": {
     "name": "#%%\n"
    }
   }
  },
  {
   "cell_type": "code",
   "execution_count": 3,
   "outputs": [],
   "source": [
    "def entropy(sequence):\n",
    "    value,count = np.unique(sequence,return_counts=True)\n",
    "    p = count/np.sum(count)\n",
    "    entropy = -np.sum(p*np.log(p))\n",
    "    return entropy"
   ],
   "metadata": {
    "collapsed": false,
    "pycharm": {
     "name": "#%%\n"
    }
   }
  },
  {
   "cell_type": "code",
   "execution_count": 4,
   "outputs": [],
   "source": [
    "def infogain(label,X,y):\n",
    "    pivot = X[label].mean()\n",
    "    left = y.loc[X[label]<pivot]\n",
    "    right = y.loc[X[label]>=pivot]\n",
    "\n",
    "    pl,pr  = len(left)/len(y),len(right)/len(y)\n",
    "    print(entropy(y))\n",
    "\n",
    "    return entropy(y) - pl * entropy(left)- pr * entropy(right)\n",
    "\n"
   ],
   "metadata": {
    "collapsed": false,
    "pycharm": {
     "name": "#%%\n"
    }
   }
  },
  {
   "cell_type": "code",
   "execution_count": 5,
   "outputs": [],
   "source": [
    "data = pd.read_csv(\"processed.csv\")"
   ],
   "metadata": {
    "collapsed": false,
    "pycharm": {
     "name": "#%%\n"
    }
   }
  },
  {
   "cell_type": "code",
   "execution_count": 6,
   "outputs": [],
   "source": [
    "X, y = data.drop([\"Survived\"], axis=1), data.Survived\n",
    "X_train, X_test, y_train, y_test = train_test_split(X, y, test_size=0.33, random_state=42)"
   ],
   "metadata": {
    "collapsed": false,
    "pycharm": {
     "name": "#%%\n"
    }
   }
  },
  {
   "cell_type": "code",
   "execution_count": 7,
   "outputs": [
    {
     "data": {
      "text/plain": "     Pclass  Sex        Age  SibSp  Parch\n6       1.0  1.0  54.000000    0.0    0.0\n718     3.0  1.0  26.507589    0.0    0.0\n685     2.0  1.0  25.000000    1.0    2.0\n73      3.0  1.0  26.000000    1.0    0.0\n882     3.0  0.0  22.000000    0.0    0.0\n..      ...  ...        ...    ...    ...\n106     3.0  0.0  21.000000    0.0    0.0\n270     1.0  1.0  41.281386    0.0    0.0\n860     3.0  1.0  41.000000    2.0    0.0\n435     1.0  0.0  14.000000    1.0    2.0\n102     1.0  1.0  21.000000    0.0    1.0\n\n[596 rows x 5 columns]",
      "text/html": "<div>\n<style scoped>\n    .dataframe tbody tr th:only-of-type {\n        vertical-align: middle;\n    }\n\n    .dataframe tbody tr th {\n        vertical-align: top;\n    }\n\n    .dataframe thead th {\n        text-align: right;\n    }\n</style>\n<table border=\"1\" class=\"dataframe\">\n  <thead>\n    <tr style=\"text-align: right;\">\n      <th></th>\n      <th>Pclass</th>\n      <th>Sex</th>\n      <th>Age</th>\n      <th>SibSp</th>\n      <th>Parch</th>\n    </tr>\n  </thead>\n  <tbody>\n    <tr>\n      <th>6</th>\n      <td>1.0</td>\n      <td>1.0</td>\n      <td>54.000000</td>\n      <td>0.0</td>\n      <td>0.0</td>\n    </tr>\n    <tr>\n      <th>718</th>\n      <td>3.0</td>\n      <td>1.0</td>\n      <td>26.507589</td>\n      <td>0.0</td>\n      <td>0.0</td>\n    </tr>\n    <tr>\n      <th>685</th>\n      <td>2.0</td>\n      <td>1.0</td>\n      <td>25.000000</td>\n      <td>1.0</td>\n      <td>2.0</td>\n    </tr>\n    <tr>\n      <th>73</th>\n      <td>3.0</td>\n      <td>1.0</td>\n      <td>26.000000</td>\n      <td>1.0</td>\n      <td>0.0</td>\n    </tr>\n    <tr>\n      <th>882</th>\n      <td>3.0</td>\n      <td>0.0</td>\n      <td>22.000000</td>\n      <td>0.0</td>\n      <td>0.0</td>\n    </tr>\n    <tr>\n      <th>...</th>\n      <td>...</td>\n      <td>...</td>\n      <td>...</td>\n      <td>...</td>\n      <td>...</td>\n    </tr>\n    <tr>\n      <th>106</th>\n      <td>3.0</td>\n      <td>0.0</td>\n      <td>21.000000</td>\n      <td>0.0</td>\n      <td>0.0</td>\n    </tr>\n    <tr>\n      <th>270</th>\n      <td>1.0</td>\n      <td>1.0</td>\n      <td>41.281386</td>\n      <td>0.0</td>\n      <td>0.0</td>\n    </tr>\n    <tr>\n      <th>860</th>\n      <td>3.0</td>\n      <td>1.0</td>\n      <td>41.000000</td>\n      <td>2.0</td>\n      <td>0.0</td>\n    </tr>\n    <tr>\n      <th>435</th>\n      <td>1.0</td>\n      <td>0.0</td>\n      <td>14.000000</td>\n      <td>1.0</td>\n      <td>2.0</td>\n    </tr>\n    <tr>\n      <th>102</th>\n      <td>1.0</td>\n      <td>1.0</td>\n      <td>21.000000</td>\n      <td>0.0</td>\n      <td>1.0</td>\n    </tr>\n  </tbody>\n</table>\n<p>596 rows × 5 columns</p>\n</div>"
     },
     "execution_count": 7,
     "metadata": {},
     "output_type": "execute_result"
    }
   ],
   "source": [
    "X_train"
   ],
   "metadata": {
    "collapsed": false,
    "pycharm": {
     "name": "#%%\n"
    }
   }
  },
  {
   "cell_type": "code",
   "execution_count": 8,
   "outputs": [
    {
     "name": "stdout",
     "output_type": "stream",
     "text": [
      "0.6659119735267652\n",
      "Pclass 0.05253613916173083\n",
      "0.6659119735267652\n",
      "Sex 0.15087048925218172\n",
      "0.6659119735267652\n",
      "Age 0.0007663481843047659\n",
      "0.6659119735267652\n",
      "SibSp 0.006643498134917131\n",
      "0.6659119735267652\n",
      "Parch 0.010661126611803101\n"
     ]
    }
   ],
   "source": [
    "for col in X.columns:\n",
    "    print(col,infogain(col,X,y))"
   ],
   "metadata": {
    "collapsed": false,
    "pycharm": {
     "name": "#%%\n"
    }
   }
  },
  {
   "cell_type": "code",
   "execution_count": 8,
   "outputs": [],
   "source": [],
   "metadata": {
    "collapsed": false,
    "pycharm": {
     "name": "#%%\n"
    }
   }
  },
  {
   "cell_type": "code",
   "execution_count": 18,
   "outputs": [],
   "source": [],
   "metadata": {
    "collapsed": false,
    "pycharm": {
     "name": "#%%\n"
    }
   }
  },
  {
   "cell_type": "code",
   "execution_count": null,
   "outputs": [],
   "source": [
    "\n"
   ],
   "metadata": {
    "collapsed": false,
    "pycharm": {
     "name": "#%%\n"
    }
   }
  }
 ],
 "metadata": {
  "kernelspec": {
   "display_name": "Python 3",
   "language": "python",
   "name": "python3"
  },
  "language_info": {
   "codemirror_mode": {
    "name": "ipython",
    "version": 2
   },
   "file_extension": ".py",
   "mimetype": "text/x-python",
   "name": "python",
   "nbconvert_exporter": "python",
   "pygments_lexer": "ipython2",
   "version": "2.7.6"
  }
 },
 "nbformat": 4,
 "nbformat_minor": 0
}