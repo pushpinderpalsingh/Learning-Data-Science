{
 "cells": [
  {
   "cell_type": "markdown",
   "metadata": {},
   "source": [
    "# Increasing Decreasing Sequence"
   ]
  },
  {
   "cell_type": "code",
   "execution_count": 78,
   "metadata": {},
   "outputs": [],
   "source": [
    "def check(number,n):\n",
    "    flag = -1\n",
    "    for cases in range(1,n):\n",
    "        if(number[cases-1]<number[cases]):\n",
    "            if( flag == -1):   \n",
    "                flag = 1\n",
    "            elif flag == 0:\n",
    "                return False\n",
    "        elif(number[cases-1]>number[cases]):\n",
    "            flag=0\n",
    "    return flag == 1 or flag ==0"
   ]
  },
  {
   "cell_type": "code",
   "execution_count": 82,
   "metadata": {},
   "outputs": [
    {
     "name": "stdin",
     "output_type": "stream",
     "text": [
      " 6\n",
      " 1\n",
      " 2\n",
      " 1\n",
      " 5\n",
      " 4\n",
      " 3\n"
     ]
    },
    {
     "name": "stdout",
     "output_type": "stream",
     "text": [
      "False\n"
     ]
    }
   ],
   "source": [
    "cases = int(input())\n",
    "num = []\n",
    "for case in range(cases):\n",
    "    num.append(input().split())\n",
    "print(check(num,cases))"
   ]
  },
  {
   "cell_type": "markdown",
   "metadata": {},
   "source": [
    "## Revising Quadratic Equation"
   ]
  },
  {
   "cell_type": "code",
   "execution_count": 37,
   "metadata": {},
   "outputs": [
    {
     "name": "stdin",
     "output_type": "stream",
     "text": [
      " 5 -4 2\n"
     ]
    },
    {
     "name": "stdout",
     "output_type": "stream",
     "text": [
      "Imaginary\n"
     ]
    }
   ],
   "source": [
    "import math\n",
    "a,b,c = map(int,input().split())\n",
    "if (b**2 - 4*a*c) < 0:\n",
    "   print(\"Imaginary\")\n",
    "else :\n",
    "    r1,r2 = ((-b - math.sqrt(b**2 - 4*a*c))/2*a , (-b + math.sqrt(b**2 - 4*a*c))/2*a)\n",
    "    if r1 == r2:\n",
    "        print(\"Real and Equal\")\n",
    "        print(int(r1),int(r2))\n",
    "    else:\n",
    "        print(\"Real and Distinct\")\n",
    "        print(int(r1),int(r2))"
   ]
  },
  {
   "cell_type": "markdown",
   "metadata": {},
   "source": [
    "## Check Prime"
   ]
  },
  {
   "cell_type": "code",
   "execution_count": 48,
   "metadata": {},
   "outputs": [
    {
     "name": "stdin",
     "output_type": "stream",
     "text": [
      " 3\n"
     ]
    },
    {
     "name": "stdout",
     "output_type": "stream",
     "text": [
      "Prime\n"
     ]
    }
   ],
   "source": [
    "import math\n",
    "def checkPrime(n):\n",
    "    flag = 0\n",
    "    for num in range(2,(n-1)):\n",
    "        if n % num == 0 :\n",
    "            flag = 1\n",
    "    return flag == 0\n",
    "if checkPrime(int(input())):\n",
    "    print(\"Prime\")\n",
    "else :\n",
    "    print(\"Not Prime\")"
   ]
  },
  {
   "cell_type": "markdown",
   "metadata": {},
   "source": [
    "## Pattern with zeros"
   ]
  },
  {
   "cell_type": "code",
   "execution_count": 7,
   "metadata": {},
   "outputs": [
    {
     "name": "stdin",
     "output_type": "stream",
     "text": [
      " 5\n"
     ]
    },
    {
     "name": "stdout",
     "output_type": "stream",
     "text": [
      "1\t\n",
      "2\t2\t\n",
      "3\t0\t3\t\n",
      "4\t0\t0\t4\t\n",
      "5\t0\t0\t0\t5\t\n"
     ]
    }
   ],
   "source": [
    "N = int(input())\n",
    "for r in range(1,N+1):\n",
    "    for c in range(0,r):\n",
    "        if c == 0 or c == r-1:\n",
    "            print(r, end = \"\\t\")\n",
    "        else:\n",
    "            print(\"0\",end= \"\\t\")\n",
    "    print()"
   ]
  },
  {
   "cell_type": "markdown",
   "metadata": {},
   "source": [
    "## Binary to Decimal"
   ]
  },
  {
   "cell_type": "code",
   "execution_count": 34,
   "metadata": {},
   "outputs": [
    {
     "name": "stdin",
     "output_type": "stream",
     "text": [
      " 101010\n"
     ]
    },
    {
     "name": "stdout",
     "output_type": "stream",
     "text": [
      "42\n"
     ]
    }
   ],
   "source": [
    "binary = input()\n",
    "dec = 0\n",
    "count = 0\n",
    "for b in range(0,len(binary)):\n",
    "    dec += int(binary[len(binary)-b-1]) * 2 **count\n",
    "    count+= 1\n",
    "    \n",
    "print(dec)"
   ]
  },
  {
   "cell_type": "markdown",
   "metadata": {},
   "source": [
    "## Simple Input"
   ]
  },
  {
   "cell_type": "code",
   "execution_count": 36,
   "metadata": {},
   "outputs": [
    {
     "name": "stdin",
     "output_type": "stream",
     "text": [
      " 1\n"
     ]
    },
    {
     "name": "stdout",
     "output_type": "stream",
     "text": [
      "1\n"
     ]
    },
    {
     "name": "stdin",
     "output_type": "stream",
     "text": [
      " 2\n"
     ]
    },
    {
     "name": "stdout",
     "output_type": "stream",
     "text": [
      "2\n"
     ]
    },
    {
     "name": "stdin",
     "output_type": "stream",
     "text": [
      " 88\n"
     ]
    },
    {
     "name": "stdout",
     "output_type": "stream",
     "text": [
      "88\n"
     ]
    },
    {
     "name": "stdin",
     "output_type": "stream",
     "text": [
      " -100\n"
     ]
    }
   ],
   "source": [
    "sumy = 0\n",
    "while True:\n",
    "    num = int(input())\n",
    "    sumy += num\n",
    "    if(sumy>=0):\n",
    "        print(num)\n",
    "    else :\n",
    "        break"
   ]
  },
  {
   "cell_type": "markdown",
   "metadata": {},
   "source": [
    "## Print Fibonacci"
   ]
  },
  {
   "cell_type": "code",
   "execution_count": 54,
   "metadata": {},
   "outputs": [
    {
     "name": "stdin",
     "output_type": "stream",
     "text": [
      " 78\n"
     ]
    },
    {
     "name": "stdout",
     "output_type": "stream",
     "text": [
      "0\n",
      "1\n",
      "1\n",
      "2\n",
      "3\n",
      "5\n",
      "8\n",
      "13\n",
      "21\n",
      "34\n",
      "55\n"
     ]
    }
   ],
   "source": [
    "a=int(input())\n",
    "f=0                                         #first element of series\n",
    "s=1    \n",
    "print(f)\n",
    "print(s)\n",
    "for x in range(2,a):\n",
    "    next=f+s   \n",
    "    if next <= a :\n",
    "        print(next)\n",
    "    f=s\n",
    "    s=next"
   ]
  },
  {
   "cell_type": "markdown",
   "metadata": {},
   "source": [
    "## Pattern Number and Stars 2"
   ]
  },
  {
   "cell_type": "code",
   "execution_count": 9,
   "metadata": {},
   "outputs": [
    {
     "name": "stdin",
     "output_type": "stream",
     "text": [
      " 7\n"
     ]
    },
    {
     "name": "stdout",
     "output_type": "stream",
     "text": [
      "*234567\n",
      "**34567\n",
      "***4567\n",
      "****567\n",
      "*****67\n",
      "******7\n",
      "*******\n"
     ]
    }
   ],
   "source": [
    "n = int(input())\n",
    "for row in range(n):\n",
    "    num = 0\n",
    "    for col in range(1,n+1):\n",
    "        if(num<=row): \n",
    "            print(col,end= \"\")\n",
    "            num+=1\n",
    "        else:\n",
    "            print(\"*\",end=\"\")\n",
    "    print()"
   ]
  },
  {
   "cell_type": "markdown",
   "metadata": {},
   "source": [
    "## Pattern Number and Stars 1"
   ]
  },
  {
   "cell_type": "code",
   "execution_count": 38,
   "metadata": {},
   "outputs": [
    {
     "name": "stdin",
     "output_type": "stream",
     "text": [
      " 5\n"
     ]
    },
    {
     "name": "stdout",
     "output_type": "stream",
     "text": [
      "1 2 3 4 5 \n",
      "1 2 3 4 * \n",
      "1 2 3 * * * \n",
      "1 2 * * * * * \n",
      "1 * * * * * * * \n"
     ]
    }
   ],
   "source": [
    "n = int(input())\n",
    "for row in range(n):\n",
    "    star = row\n",
    "    for col in range(1,n+1-row):\n",
    "        print(col,end=\" \")\n",
    "    for col in range(1,n+1):\n",
    "        if(star>0):\n",
    "            print(\"*\",end=\" \")\n",
    "            star-=1\n",
    "    star = row\n",
    "    for col in range(1,n+1):\n",
    "        if(star>1):\n",
    "            print(\"*\",end=\" \")\n",
    "            star-=1\n",
    "            \n",
    "    print()"
   ]
  },
  {
   "cell_type": "markdown",
   "metadata": {},
   "source": [
    "## Pattern Mountain"
   ]
  },
  {
   "cell_type": "code",
   "execution_count": 106,
   "metadata": {},
   "outputs": [
    {
     "name": "stdin",
     "output_type": "stream",
     "text": [
      " 5\n"
     ]
    },
    {
     "name": "stdout",
     "output_type": "stream",
     "text": [
      " \t \t \t \t \t \t \t \t \t\n",
      "1\t \t \t \t \t \t \t \t1\t\n",
      "1\t2\t \t \t \t \t \t2\t1\t\n",
      "1\t2\t3\t \t \t \t3\t2\t1\t\n",
      "1\t2\t3\t4\t \t4\t3\t2\t1\t\n",
      "1\t2\t3\t4\t5\t4\t3\t2\t1\t\n"
     ]
    }
   ],
   "source": [
    "n = int(input())\n",
    "space = 2*n-2\n",
    "num = 0\n",
    "for row in range(n+1):\n",
    "    for col in range(1,row+1):\n",
    "        print(col,end=\"\\t\")\n",
    "    for space in range(space+1):\n",
    "        print(\" \",end=\"\\t\")\n",
    "    for col in range(num,row):\n",
    "        print(row-col,end=\"\\t\")\n",
    "    print()\n",
    "    space-=2\n",
    "    num = 0\n",
    "    if(row==n-2):\n",
    "        space=0\n",
    "    if(row==n-1):\n",
    "        num = 1"
   ]
  },
  {
   "cell_type": "code",
   "execution_count": null,
   "metadata": {},
   "outputs": [],
   "source": []
  }
 ],
 "metadata": {
  "kernelspec": {
   "display_name": "Python 3",
   "language": "python",
   "name": "python3"
  },
  "language_info": {
   "codemirror_mode": {
    "name": "ipython",
    "version": 3
   },
   "file_extension": ".py",
   "mimetype": "text/x-python",
   "name": "python",
   "nbconvert_exporter": "python",
   "pygments_lexer": "ipython3",
   "version": "3.7.6"
  }
 },
 "nbformat": 4,
 "nbformat_minor": 4
}
